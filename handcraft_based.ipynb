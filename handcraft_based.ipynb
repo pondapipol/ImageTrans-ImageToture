{
 "cells": [
  {
   "cell_type": "code",
   "execution_count": 5,
   "metadata": {},
   "outputs": [],
   "source": [
    "import matplotlib.pyplot as plt\n",
    "import cv2\n",
    "import numpy as np\n",
    "import pandas as pd\n",
    "import seaborn as sns\n",
    "import tqdm as t\n",
    "import sklearn.neighbors as sn\n",
    "import numpy.matlib as ml\n",
    "import skimage.transform as skt\n",
    "from sklearn import svm\n",
    "from sklearn.metrics import classification_report"
   ]
  },
  {
   "cell_type": "markdown",
   "metadata": {},
   "source": [
    "## **Image Loading and Feature Extraction using Eigenvector**"
   ]
  },
  {
   "cell_type": "code",
   "execution_count": 6,
   "metadata": {},
   "outputs": [],
   "source": [
    "datatrain = [];\n",
    "labelTrain = [];"
   ]
  },
  {
   "cell_type": "code",
   "execution_count": 7,
   "metadata": {},
   "outputs": [
    {
     "name": "stderr",
     "output_type": "stream",
     "text": [
      "100%|███████████████████████████████████████████████████████████████████████████████████| 6/6 [00:00<00:00, 109.07it/s]\n"
     ]
    }
   ],
   "source": [
    "# Training Image Loader and Feature Extraction\n",
    "for _classname in t.tqdm(range(1,7)):\n",
    "    for _id in range(1,18):\n",
    "        path = 'Char_Tr/Tr/' + str(_classname) + '/text (' + str(_id) + ').bmp';\n",
    "        img = cv2.imread(path,cv2.COLOR_BGR2GRAY)\n",
    "        img = cv2.resize(img, (32,32), interpolation = cv2.INTER_AREA)\n",
    "        img = np.invert(img)\n",
    "        datatrain.append(np.array(img).reshape(-1,1))\n",
    "        labelTrain.append(_classname)\n",
    "tmpShape = np.array(datatrain).shape;\n",
    "datatrain = np.reshape(np.array(datatrain),(-1,tmpShape[1])).T"
   ]
  },
  {
   "cell_type": "code",
   "execution_count": 8,
   "metadata": {},
   "outputs": [
    {
     "data": {
      "text/plain": [
       "array([[  0,   0,   0, ...,   0,   0,   0],\n",
       "       [  0,   0,   0, ...,   0,   0,   0],\n",
       "       [  0,   0,   0, ...,   0,   0,   0],\n",
       "       ...,\n",
       "       [255, 255, 255, ...,  11,   0, 255],\n",
       "       [255, 184, 255, ...,   0,   0,   0],\n",
       "       [255,   0, 255, ...,   0,   0,   0]], dtype=uint8)"
      ]
     },
     "execution_count": 8,
     "metadata": {},
     "output_type": "execute_result"
    }
   ],
   "source": [
    "datatrain"
   ]
  },
  {
   "cell_type": "code",
   "execution_count": 9,
   "metadata": {},
   "outputs": [],
   "source": [
    "# 1 Mean Calculation\n",
    "meanData = np.array(np.mean(datatrain,1));\n",
    "meanVector = np.array(meanData).reshape((meanData.shape[0],-1));\n",
    "data0mean = datatrain - meanVector;\n",
    "tmp = np.array(meanData).reshape((meanData.shape[0],-1))"
   ]
  },
  {
   "cell_type": "code",
   "execution_count": 10,
   "metadata": {},
   "outputs": [],
   "source": [
    "# 2 Covariance Matrix\n",
    "cov = (1.0/(data0mean.shape[0]-1))*(np.dot(data0mean.T, data0mean));"
   ]
  },
  {
   "cell_type": "code",
   "execution_count": 11,
   "metadata": {},
   "outputs": [],
   "source": [
    "# 3 Extract Eigenvector and Eigenvalue \n",
    "val, vec = np.linalg.eig(cov);\n",
    "idx = val.argsort()[::-1] \n",
    "val = val[idx]\n",
    "vec = vec[:,idx]"
   ]
  },
  {
   "cell_type": "code",
   "execution_count": 12,
   "metadata": {},
   "outputs": [],
   "source": [
    "# 4 Define Number of Eigenvector\n",
    "PCs = 10\n",
    "SelectedVec = vec[:,0:PCs];"
   ]
  },
  {
   "cell_type": "code",
   "execution_count": 13,
   "metadata": {},
   "outputs": [
    {
     "data": {
      "text/plain": [
       "(102, 10)"
      ]
     },
     "execution_count": 13,
     "metadata": {},
     "output_type": "execute_result"
    }
   ],
   "source": [
    "# 5 Training Feature Extraction by using first ten eigenvectors\n",
    "EigenFace = np.dot(data0mean, SelectedVec);\n",
    "featureTr = np.dot(EigenFace.T, data0mean);\n",
    "featureTr = featureTr.T;\n",
    "featureTr.shape"
   ]
  },
  {
   "cell_type": "code",
   "execution_count": 14,
   "metadata": {},
   "outputs": [],
   "source": [
    "# 6 Testing Feature Extraction by using first ten eigenvectors\n",
    "path = 'Char_Tr/Tr/5/text (19).bmp';\n",
    "img = cv2.imread(path,cv2.COLOR_BGR2GRAY)\n",
    "img = cv2.resize(img, (32,32), interpolation = cv2.INTER_AREA)\n",
    "tmpTs = np.array(img).reshape(-1,1)\n",
    "featureTs = np.dot(EigenFace.T, tmpTs-meanVector).T;\n",
    "labelTs = 6"
   ]
  },
  {
   "cell_type": "markdown",
   "metadata": {},
   "source": [
    "## **Model Training**"
   ]
  },
  {
   "cell_type": "code",
   "execution_count": 15,
   "metadata": {},
   "outputs": [
    {
     "name": "stdout",
     "output_type": "stream",
     "text": [
      "Answer is [1]\n"
     ]
    }
   ],
   "source": [
    "# 7 Image Classification\n",
    "clf = svm.SVC(kernel='linear')\n",
    "# train SVM model\n",
    "clf.fit(featureTr, labelTrain)\n",
    "# classify by using SVM\n",
    "out = clf.predict(featureTs)\n",
    "print('Answer is ' + str(out))"
   ]
  },
  {
   "cell_type": "markdown",
   "metadata": {},
   "source": [
    "## **Model Testing**"
   ]
  },
  {
   "cell_type": "code",
   "execution_count": 16,
   "metadata": {},
   "outputs": [],
   "source": [
    "testfeature = []\n",
    "testlabel = []"
   ]
  },
  {
   "cell_type": "code",
   "execution_count": 17,
   "metadata": {},
   "outputs": [
    {
     "name": "stderr",
     "output_type": "stream",
     "text": [
      "100%|███████████████████████████████████████████████████████████████████████████████████| 6/6 [00:00<00:00, 600.14it/s]\n"
     ]
    }
   ],
   "source": [
    "for _classname in t.tqdm(range(1,7)):\n",
    "    for _id in range(17,21):\n",
    "        path = 'Char_Tr/Tr/' + str(_classname) + '/text (' + str(_id) + ').bmp';\n",
    "        img = cv2.imread(path,cv2.COLOR_BGR2GRAY)\n",
    "        img = cv2.resize(img, (32,32), interpolation = cv2.INTER_AREA)\n",
    "        img = np.invert(img)\n",
    "        tmpTs = np.array(img).reshape(-1,1)\n",
    "        testfeature.append(np.dot(EigenFace.T, tmpTs-meanVector).T)\n",
    "        testlabel.append(_classname)\n",
    "tmpShape = np.array(testfeature).shape;\n",
    "datatrain = np.reshape(np.array(testfeature),(-1,tmpShape[1])).T"
   ]
  },
  {
   "cell_type": "code",
   "execution_count": 18,
   "metadata": {},
   "outputs": [
    {
     "data": {
      "text/plain": [
       "(24, 1, 10)"
      ]
     },
     "execution_count": 18,
     "metadata": {},
     "output_type": "execute_result"
    }
   ],
   "source": [
    "np.array(testfeature).shape"
   ]
  },
  {
   "cell_type": "code",
   "execution_count": 19,
   "metadata": {},
   "outputs": [],
   "source": [
    "testfeature = np.reshape(np.array(testfeature),(24,-1))"
   ]
  },
  {
   "cell_type": "code",
   "execution_count": 20,
   "metadata": {},
   "outputs": [
    {
     "data": {
      "text/plain": [
       "0.9583333333333334"
      ]
     },
     "execution_count": 20,
     "metadata": {},
     "output_type": "execute_result"
    }
   ],
   "source": [
    "clf.score(testfeature, testlabel)"
   ]
  },
  {
   "cell_type": "markdown",
   "metadata": {},
   "source": [
    "## **Predict Section**"
   ]
  },
  {
   "cell_type": "code",
   "execution_count": 35,
   "metadata": {},
   "outputs": [
    {
     "name": "stdout",
     "output_type": "stream",
     "text": [
      "The image is predicted as class [6]\n"
     ]
    }
   ],
   "source": [
    "#Change path of prediction here\n",
    "path = 'Char_Tr/Tr/6/text (15).bmp';\n",
    "img = cv2.imread(path,cv2.COLOR_BGR2GRAY)\n",
    "img = cv2.resize(img, (32,32), interpolation = cv2.INTER_AREA)\n",
    "img = np.invert(img)\n",
    "tmpTs = np.array(img).reshape(-1,1)\n",
    "featureTs = np.dot(EigenFace.T, tmpTs-meanVector).T;\n",
    "labelTs = 2\n",
    "out = clf.predict(featureTs)\n",
    "print('The image is predicted as class ' + str(out))"
   ]
  },
  {
   "cell_type": "markdown",
   "metadata": {},
   "source": [
    "## **Evaluation**"
   ]
  },
  {
   "cell_type": "code",
   "execution_count": 22,
   "metadata": {},
   "outputs": [],
   "source": [
    "from sklearn.metrics import confusion_matrix"
   ]
  },
  {
   "cell_type": "code",
   "execution_count": 23,
   "metadata": {},
   "outputs": [],
   "source": [
    "prediction = clf.predict(testfeature)"
   ]
  },
  {
   "cell_type": "code",
   "execution_count": 24,
   "metadata": {},
   "outputs": [
    {
     "data": {
      "text/plain": [
       "array([1, 1, 1, 1, 2, 2, 2, 2, 3, 3, 3, 3, 4, 4, 4, 4, 5, 5, 5, 5, 6, 3,\n",
       "       6, 6])"
      ]
     },
     "execution_count": 24,
     "metadata": {},
     "output_type": "execute_result"
    }
   ],
   "source": [
    "prediction"
   ]
  },
  {
   "cell_type": "code",
   "execution_count": 25,
   "metadata": {},
   "outputs": [
    {
     "name": "stdout",
     "output_type": "stream",
     "text": [
      "              precision    recall  f1-score   support\n",
      "\n",
      "           1       1.00      1.00      1.00         4\n",
      "           2       1.00      1.00      1.00         4\n",
      "           3       0.80      1.00      0.89         4\n",
      "           4       1.00      1.00      1.00         4\n",
      "           5       1.00      1.00      1.00         4\n",
      "           6       1.00      0.75      0.86         4\n",
      "\n",
      "    accuracy                           0.96        24\n",
      "   macro avg       0.97      0.96      0.96        24\n",
      "weighted avg       0.97      0.96      0.96        24\n",
      "\n"
     ]
    }
   ],
   "source": [
    "print(classification_report(testlabel, prediction))"
   ]
  },
  {
   "cell_type": "code",
   "execution_count": 26,
   "metadata": {},
   "outputs": [
    {
     "data": {
      "image/png": "[encoded data removed]",
      "text/plain": [
       "<Figure size 504x504 with 1 Axes>"
      ]
     },
     "metadata": {
      "needs_background": "light"
     },
     "output_type": "display_data"
    }
   ],
   "source": [
    "cm = confusion_matrix(testlabel, prediction)\n",
    "df1 = pd.DataFrame(columns=[1, 2, 3, 4, 5, 6], index= [1, 2, 3, 4, 5, 6], data= cm)\n",
    "f,ax = plt.subplots(figsize=(7,7))\n",
    "\n",
    "\n",
    "sns.heatmap(df1, annot=True,cmap=\"Greens\", fmt= '.0f',\n",
    "            ax=ax,linewidths = 5, cbar = False,annot_kws={\"size\": 16})\n",
    "plt.xlabel(\"Predicted Label\")\n",
    "plt.xticks(size = 12)\n",
    "plt.yticks(size = 12, rotation = 0)\n",
    "plt.ylabel(\"True Label\")\n",
    "plt.title(\"Confusion Matrix\", size = 12)\n",
    "plt.show()"
   ]
  }
 ],
 "metadata": {
  "kernelspec": {
   "display_name": "Python 3",
   "language": "python",
   "name": "python3"
  },
  "language_info": {
   "codemirror_mode": {
    "name": "ipython",
    "version": 3
   },
   "file_extension": ".py",
   "mimetype": "text/x-python",
   "name": "python",
   "nbconvert_exporter": "python",
   "pygments_lexer": "ipython3",
   "version": "3.8.3"
  }
 },
 "nbformat": 4,
 "nbformat_minor": 4
}
