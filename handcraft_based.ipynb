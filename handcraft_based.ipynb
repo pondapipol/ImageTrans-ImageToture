{
 "cells": [
  {
   "cell_type": "code",
   "execution_count": 97,
   "metadata": {},
   "outputs": [],
   "source": [
    "import matplotlib.pyplot as plt\n",
    "import cv2\n",
    "import numpy as np\n",
    "import pandas as pd\n",
    "import seaborn as sns\n",
    "import tqdm as t\n",
    "import sklearn.neighbors as sn\n",
    "import numpy.matlib as ml\n",
    "import skimage.transform as skt\n",
    "from sklearn import svm\n",
    "from sklearn.metrics import classification_report"
   ]
  },
  {
   "cell_type": "markdown",
   "metadata": {},
   "source": [
    "## **Image Loading and Feature Extraction using Eigenvector**"
   ]
  },
  {
   "cell_type": "code",
   "execution_count": 98,
   "metadata": {},
   "outputs": [],
   "source": [
    "datatrain = [];\n",
    "labelTrain = [];"
   ]
  },
  {
   "cell_type": "code",
   "execution_count": 99,
   "metadata": {},
   "outputs": [
    {
     "name": "stderr",
     "output_type": "stream",
     "text": [
      "100%|███████████████████████████████████████████████████████████████████████████████████| 6/6 [00:00<00:00, 176.46it/s]\n"
     ]
    }
   ],
   "source": [
    "# Training Image Loader and Feature Extraction\n",
    "for _classname in t.tqdm(range(1,7)):\n",
    "    for _id in range(1,18):\n",
    "        path = 'Char_Tr/Tr/' + str(_classname) + '/text (' + str(_id) + ').bmp';\n",
    "        img = cv2.imread(path,cv2.COLOR_BGR2GRAY)\n",
    "        img = cv2.resize(img, (32,32), interpolation = cv2.INTER_AREA)\n",
    "        img = np.invert(img)\n",
    "        datatrain.append(np.array(img).reshape(-1,1))\n",
    "        labelTrain.append(_classname)\n",
    "tmpShape = np.array(datatrain).shape;\n",
    "datatrain = np.reshape(np.array(datatrain),(-1,tmpShape[1])).T"
   ]
  },
  {
   "cell_type": "code",
   "execution_count": 100,
   "metadata": {},
   "outputs": [
    {
     "data": {
      "text/plain": [
       "array([[  0,   0,   0, ...,   0,   0,   0],\n",
       "       [  0,   0,   0, ...,   0,   0,   0],\n",
       "       [  0,   0,   0, ...,   0,   0,   0],\n",
       "       ...,\n",
       "       [255, 255, 255, ...,  11,   0, 255],\n",
       "       [255, 184, 255, ...,   0,   0,   0],\n",
       "       [255,   0, 255, ...,   0,   0,   0]], dtype=uint8)"
      ]
     },
     "execution_count": 100,
     "metadata": {},
     "output_type": "execute_result"
    }
   ],
   "source": [
    "datatrain"
   ]
  },
  {
   "cell_type": "code",
   "execution_count": 101,
   "metadata": {},
   "outputs": [],
   "source": [
    "# 1 Mean Calculation\n",
    "meanData = np.array(np.mean(datatrain,1));\n",
    "meanVector = np.array(meanData).reshape((meanData.shape[0],-1));\n",
    "data0mean = datatrain - meanVector;\n",
    "tmp = np.array(meanData).reshape((meanData.shape[0],-1))"
   ]
  },
  {
   "cell_type": "code",
   "execution_count": 102,
   "metadata": {},
   "outputs": [],
   "source": [
    "# 2 Covariance Matrix\n",
    "cov = (1.0/(data0mean.shape[0]-1))*(np.dot(data0mean.T, data0mean));"
   ]
  },
  {
   "cell_type": "code",
   "execution_count": 103,
   "metadata": {},
   "outputs": [],
   "source": [
    "# 3 Extract Eigenvector and Eigenvalue \n",
    "val, vec = np.linalg.eig(cov);\n",
    "idx = val.argsort()[::-1] \n",
    "val = val[idx]\n",
    "vec = vec[:,idx]"
   ]
  },
  {
   "cell_type": "code",
   "execution_count": 104,
   "metadata": {},
   "outputs": [],
   "source": [
    "# 4 Define Number of Eigenvector\n",
    "PCs = 10\n",
    "SelectedVec = vec[:,0:PCs];"
   ]
  },
  {
   "cell_type": "code",
   "execution_count": 105,
   "metadata": {},
   "outputs": [
    {
     "data": {
      "text/plain": [
       "(102, 10)"
      ]
     },
     "execution_count": 105,
     "metadata": {},
     "output_type": "execute_result"
    }
   ],
   "source": [
    "# 5 Training Feature Extraction by using first ten eigenvectors\n",
    "EigenFace = np.dot(data0mean, SelectedVec);\n",
    "featureTr = np.dot(EigenFace.T, data0mean);\n",
    "featureTr = featureTr.T;\n",
    "featureTr.shape"
   ]
  },
  {
   "cell_type": "code",
   "execution_count": 106,
   "metadata": {},
   "outputs": [],
   "source": [
    "# 6 Testing Feature Extraction by using first ten eigenvectors\n",
    "path = 'Char_Tr/Tr/5/text (19).bmp';\n",
    "img = cv2.imread(path,cv2.COLOR_BGR2GRAY)\n",
    "img = cv2.resize(img, (32,32), interpolation = cv2.INTER_AREA)\n",
    "tmpTs = np.array(img).reshape(-1,1)\n",
    "featureTs = np.dot(EigenFace.T, tmpTs-meanVector).T;\n",
    "labelTs = 6"
   ]
  },
  {
   "cell_type": "markdown",
   "metadata": {},
   "source": [
    "## **Model Training**"
   ]
  },
  {
   "cell_type": "code",
   "execution_count": 107,
   "metadata": {},
   "outputs": [
    {
     "name": "stdout",
     "output_type": "stream",
     "text": [
      "Answer is [1]\n"
     ]
    }
   ],
   "source": [
    "# 7 Image Classification\n",
    "clf = svm.SVC(kernel='linear')\n",
    "# train SVM model\n",
    "clf.fit(featureTr, labelTrain)\n",
    "# classify by using SVM\n",
    "out = clf.predict(featureTs)\n",
    "print('Answer is ' + str(out))"
   ]
  },
  {
   "cell_type": "markdown",
   "metadata": {},
   "source": [
    "## **Model Testing**"
   ]
  },
  {
   "cell_type": "code",
   "execution_count": 113,
   "metadata": {},
   "outputs": [],
   "source": [
    "testfeature = []\n",
    "testlabel = []"
   ]
  },
  {
   "cell_type": "code",
   "execution_count": 114,
   "metadata": {},
   "outputs": [
    {
     "name": "stderr",
     "output_type": "stream",
     "text": [
      "100%|███████████████████████████████████████████████████████████████████████████████████| 6/6 [00:00<00:00, 996.98it/s]\n"
     ]
    }
   ],
   "source": [
    "for _classname in t.tqdm(range(1,7)):\n",
    "    for _id in range(18,21):\n",
    "        path = 'Char_Tr/Tr/' + str(_classname) + '/text (' + str(_id) + ').bmp';\n",
    "        img = cv2.imread(path,cv2.COLOR_BGR2GRAY)\n",
    "        img = cv2.resize(img, (32,32), interpolation = cv2.INTER_AREA)\n",
    "        img = np.invert(img)\n",
    "        tmpTs = np.array(img).reshape(-1,1)\n",
    "        testfeature.append(np.dot(EigenFace.T, tmpTs-meanVector).T)\n",
    "        testlabel.append(_classname)"
   ]
  },
  {
   "cell_type": "code",
   "execution_count": 115,
   "metadata": {},
   "outputs": [
    {
     "data": {
      "text/plain": [
       "(18, 1, 10)"
      ]
     },
     "execution_count": 115,
     "metadata": {},
     "output_type": "execute_result"
    }
   ],
   "source": [
    "np.array(testfeature).shape"
   ]
  },
  {
   "cell_type": "code",
   "execution_count": 116,
   "metadata": {},
   "outputs": [],
   "source": [
    "testfeature = np.reshape(np.array(testfeature),(18,-1))"
   ]
  },
  {
   "cell_type": "code",
   "execution_count": 118,
   "metadata": {},
   "outputs": [
    {
     "data": {
      "text/plain": [
       "0.9444444444444444"
      ]
     },
     "execution_count": 118,
     "metadata": {},
     "output_type": "execute_result"
    }
   ],
   "source": [
    "clf.score(testfeature, testlabel)"
   ]
  },
  {
   "cell_type": "markdown",
   "metadata": {},
   "source": [
    "## **Predict Section**"
   ]
  },
  {
   "cell_type": "code",
   "execution_count": 119,
   "metadata": {},
   "outputs": [
    {
     "name": "stdout",
     "output_type": "stream",
     "text": [
      "The image is predicted as class [6]\n"
     ]
    }
   ],
   "source": [
    "#Change path of prediction here\n",
    "path = 'Char_Tr/Tr/6/text (15).bmp';\n",
    "img = cv2.imread(path,cv2.COLOR_BGR2GRAY)\n",
    "img = cv2.resize(img, (32,32), interpolation = cv2.INTER_AREA)\n",
    "img = np.invert(img)\n",
    "tmpTs = np.array(img).reshape(-1,1)\n",
    "featureTs = np.dot(EigenFace.T, tmpTs-meanVector).T;\n",
    "labelTs = 2\n",
    "out = clf.predict(featureTs)\n",
    "print('The image is predicted as class ' + str(out))"
   ]
  },
  {
   "cell_type": "markdown",
   "metadata": {},
   "source": [
    "## **Evaluation**"
   ]
  },
  {
   "cell_type": "code",
   "execution_count": 120,
   "metadata": {},
   "outputs": [],
   "source": [
    "from sklearn.metrics import confusion_matrix"
   ]
  },
  {
   "cell_type": "code",
   "execution_count": 121,
   "metadata": {},
   "outputs": [],
   "source": [
    "prediction = clf.predict(testfeature)"
   ]
  },
  {
   "cell_type": "code",
   "execution_count": 122,
   "metadata": {},
   "outputs": [
    {
     "data": {
      "text/plain": [
       "array([1, 1, 1, 2, 2, 2, 3, 3, 3, 4, 4, 4, 5, 5, 5, 3, 6, 6])"
      ]
     },
     "execution_count": 122,
     "metadata": {},
     "output_type": "execute_result"
    }
   ],
   "source": [
    "prediction"
   ]
  },
  {
   "cell_type": "code",
   "execution_count": 123,
   "metadata": {},
   "outputs": [
    {
     "name": "stdout",
     "output_type": "stream",
     "text": [
      "              precision    recall  f1-score   support\n",
      "\n",
      "           1       1.00      1.00      1.00         3\n",
      "           2       1.00      1.00      1.00         3\n",
      "           3       0.75      1.00      0.86         3\n",
      "           4       1.00      1.00      1.00         3\n",
      "           5       1.00      1.00      1.00         3\n",
      "           6       1.00      0.67      0.80         3\n",
      "\n",
      "    accuracy                           0.94        18\n",
      "   macro avg       0.96      0.94      0.94        18\n",
      "weighted avg       0.96      0.94      0.94        18\n",
      "\n"
     ]
    }
   ],
   "source": [
    "print(classification_report(testlabel, prediction))"
   ]
  },
  {
   "cell_type": "code",
   "execution_count": 124,
   "metadata": {},
   "outputs": [
    {
     "data": {
      "image/png": "[encoded data removed]",
      "text/plain": [
       "<Figure size 504x504 with 1 Axes>"
      ]
     },
     "metadata": {
      "needs_background": "light"
     },
     "output_type": "display_data"
    }
   ],
   "source": [
    "cm = confusion_matrix(testlabel, prediction)\n",
    "df1 = pd.DataFrame(columns=[1, 2, 3, 4, 5, 6], index= [1, 2, 3, 4, 5, 6], data= cm)\n",
    "f,ax = plt.subplots(figsize=(7,7))\n",
    "\n",
    "\n",
    "sns.heatmap(df1, annot=True,cmap=\"Greens\", fmt= '.0f',\n",
    "            ax=ax,linewidths = 5, cbar = False,annot_kws={\"size\": 16})\n",
    "plt.xlabel(\"Predicted Label\")\n",
    "plt.xticks(size = 12)\n",
    "plt.yticks(size = 12, rotation = 0)\n",
    "plt.ylabel(\"True Label\")\n",
    "plt.title(\"Confusion Matrix\", size = 12)\n",
    "plt.show()"
   ]
  },
  {
   "cell_type": "markdown",
   "metadata": {},
   "source": [
    "## **TA Test Data**"
   ]
  },
  {
   "cell_type": "code",
   "execution_count": 125,
   "metadata": {},
   "outputs": [],
   "source": [
    "tatest = []\n",
    "talabel = []"
   ]
  },
  {
   "cell_type": "code",
   "execution_count": 126,
   "metadata": {},
   "outputs": [
    {
     "name": "stderr",
     "output_type": "stream",
     "text": [
      "100%|███████████████████████████████████████████████████████████████████████████████████| 6/6 [00:00<00:00, 122.44it/s]\n"
     ]
    }
   ],
   "source": [
    "from os import walk\n",
    "mypath = 'textregtest/Tr/'\n",
    "# f = []\n",
    "for i in t.tqdm(range(1, 7)):\n",
    "    for (dirpath, dirname, filenames) in walk(mypath + str(i)):\n",
    "        for name in filenames:\n",
    "            img = cv2.imread(mypath + str(i) + \"/\" + name,0)\n",
    "            img = cv2.resize(img, (32,32), interpolation = cv2.INTER_AREA)\n",
    "            img = np.invert(img)\n",
    "            tmpTs = np.array(img).reshape(-1,1)\n",
    "            tatest.append(np.dot(EigenFace.T, tmpTs-meanVector).T)\n",
    "            talabel.append(i)"
   ]
  },
  {
   "cell_type": "code",
   "execution_count": 127,
   "metadata": {},
   "outputs": [
    {
     "data": {
      "text/plain": [
       "(120, 1, 10)"
      ]
     },
     "execution_count": 127,
     "metadata": {},
     "output_type": "execute_result"
    }
   ],
   "source": [
    "np.array(tatest).shape"
   ]
  },
  {
   "cell_type": "code",
   "execution_count": 128,
   "metadata": {},
   "outputs": [],
   "source": [
    "tatest = np.reshape(np.array(tatest),(120,-1))"
   ]
  },
  {
   "cell_type": "code",
   "execution_count": 129,
   "metadata": {},
   "outputs": [
    {
     "data": {
      "text/plain": [
       "0.7166666666666667"
      ]
     },
     "execution_count": 129,
     "metadata": {},
     "output_type": "execute_result"
    }
   ],
   "source": [
    "clf.score(tatest, talabel)"
   ]
  },
  {
   "cell_type": "markdown",
   "metadata": {},
   "source": [
    "## Prediction for One"
   ]
  },
  {
   "cell_type": "code",
   "execution_count": 130,
   "metadata": {},
   "outputs": [
    {
     "name": "stdout",
     "output_type": "stream",
     "text": [
      "The image is predicted as class [1]\n"
     ]
    }
   ],
   "source": [
    "mypath = 'textregtest/Tr/1/text (19).bmp'\n",
    "img = cv2.imread(mypath,0)\n",
    "img = cv2.resize(img, (32,32), interpolation = cv2.INTER_AREA)\n",
    "img = np.invert(img)\n",
    "tmpTs = np.array(img).reshape(-1,1)\n",
    "testOne = np.dot(EigenFace.T, tmpTs-meanVector).T;\n",
    "out = clf.predict(testOne)\n",
    "print('The image is predicted as class ' + str(out))"
   ]
  },
  {
   "cell_type": "markdown",
   "metadata": {},
   "source": [
    "## Evaluation for TA Test"
   ]
  },
  {
   "cell_type": "code",
   "execution_count": 131,
   "metadata": {},
   "outputs": [],
   "source": [
    "prediction_ta = clf.predict(tatest)"
   ]
  },
  {
   "cell_type": "code",
   "execution_count": 132,
   "metadata": {},
   "outputs": [
    {
     "data": {
      "text/plain": [
       "array([1, 1, 1, 1, 1, 1, 1, 1, 3, 1, 1, 1, 3, 3, 1, 3, 1, 1, 3, 1, 2, 2,\n",
       "       3, 3, 2, 2, 1, 2, 5, 2, 2, 2, 2, 2, 2, 2, 2, 2, 2, 1, 3, 3, 3, 3,\n",
       "       1, 3, 3, 3, 3, 3, 3, 3, 3, 3, 3, 3, 3, 1, 1, 4, 4, 4, 4, 3, 4, 5,\n",
       "       3, 4, 5, 4, 5, 4, 4, 4, 4, 1, 4, 3, 4, 4, 5, 5, 3, 5, 5, 1, 5, 5,\n",
       "       5, 5, 5, 5, 1, 5, 5, 1, 1, 5, 5, 1, 6, 6, 6, 1, 6, 6, 1, 6, 6, 1,\n",
       "       3, 6, 6, 1, 6, 6, 3, 6, 1, 6])"
      ]
     },
     "execution_count": 132,
     "metadata": {},
     "output_type": "execute_result"
    }
   ],
   "source": [
    "prediction_ta"
   ]
  },
  {
   "cell_type": "code",
   "execution_count": 133,
   "metadata": {},
   "outputs": [
    {
     "name": "stdout",
     "output_type": "stream",
     "text": [
      "              precision    recall  f1-score   support\n",
      "\n",
      "           1       0.48      0.75      0.59        20\n",
      "           2       1.00      0.75      0.86        20\n",
      "           3       0.55      0.80      0.65        20\n",
      "           4       0.93      0.65      0.76        20\n",
      "           5       0.78      0.70      0.74        20\n",
      "           6       1.00      0.65      0.79        20\n",
      "\n",
      "    accuracy                           0.72       120\n",
      "   macro avg       0.79      0.72      0.73       120\n",
      "weighted avg       0.79      0.72      0.73       120\n",
      "\n"
     ]
    }
   ],
   "source": [
    "print(classification_report(talabel, prediction_ta))"
   ]
  },
  {
   "cell_type": "code",
   "execution_count": 134,
   "metadata": {},
   "outputs": [
    {
     "data": {
      "image/png": "[encoded data removed]",
      "text/plain": [
       "<Figure size 504x504 with 1 Axes>"
      ]
     },
     "metadata": {
      "needs_background": "light"
     },
     "output_type": "display_data"
    }
   ],
   "source": [
    "cm = confusion_matrix(talabel, prediction_ta)\n",
    "df1 = pd.DataFrame(columns=[1, 2, 3, 4, 5, 6], index= [1, 2, 3, 4, 5, 6], data= cm)\n",
    "f,ax = plt.subplots(figsize=(7,7))\n",
    "\n",
    "\n",
    "sns.heatmap(df1, annot=True,cmap=\"Greens\", fmt= '.0f',\n",
    "            ax=ax,linewidths = 5, cbar = False,annot_kws={\"size\": 16})\n",
    "plt.xlabel(\"Predicted Label\")\n",
    "plt.xticks(size = 12)\n",
    "plt.yticks(size = 12, rotation = 0)\n",
    "plt.ylabel(\"True Label\")\n",
    "plt.title(\"Confusion Matrix\", size = 12)\n",
    "plt.show()"
   ]
  }
 ],
 "metadata": {
  "kernelspec": {
   "display_name": "Python 3",
   "language": "python",
   "name": "python3"
  },
  "language_info": {
   "codemirror_mode": {
    "name": "ipython",
    "version": 3
   },
   "file_extension": ".py",
   "mimetype": "text/x-python",
   "name": "python",
   "nbconvert_exporter": "python",
   "pygments_lexer": "ipython3",
   "version": "3.8.3"
  }
 },
 "nbformat": 4,
 "nbformat_minor": 4
}
