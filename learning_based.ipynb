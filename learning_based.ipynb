{
 "cells": [
  {
   "cell_type": "code",
   "execution_count": 180,
   "metadata": {},
   "outputs": [],
   "source": [
    "import pandas as pd\n",
    "import numpy as np\n",
    "# for reading and displaying images\n",
    "from skimage.io import imread\n",
    "import matplotlib.pyplot as plt\n",
    "# for creating validation set\n",
    "from sklearn.model_selection import train_test_split\n",
    "# for evaluating the model\n",
    "from sklearn.metrics import accuracy_score\n",
    "from tqdm import tqdm\n",
    "# PyTorch libraries and modules\n",
    "import torch\n",
    "from torch.autograd import Variable\n",
    "from torch.nn import Linear, ReLU, CrossEntropyLoss, Sequential, Conv2d, MaxPool2d, Module, Softmax, BatchNorm2d, Dropout\n",
    "from torch.optim import Adam, SGD\n",
    "import cv2\n",
    "import numpy.matlib as ml\n",
    "import tqdm as t\n",
    "import skimage.transform as skt\n",
    "import torchvision.models as models"
   ]
  },
  {
   "cell_type": "markdown",
   "metadata": {},
   "source": [
    "## **Image Loading and Preparation**"
   ]
  },
  {
   "cell_type": "code",
   "execution_count": 49,
   "metadata": {},
   "outputs": [],
   "source": [
    "train_img = [];\n",
    "train_y = [];"
   ]
  },
  {
   "cell_type": "code",
   "execution_count": 50,
   "metadata": {},
   "outputs": [
    {
     "name": "stderr",
     "output_type": "stream",
     "text": [
      "100%|████████████████████████████████████████████████████████████████████████████████████| 6/6 [00:00<00:00, 75.95it/s]\n"
     ]
    }
   ],
   "source": [
    "# Training Image Loader and Feature Extraction\n",
    "for _classname in t.tqdm(range(1,7)):\n",
    "    for _id in range(1,21):\n",
    "        path = 'Char_Tr/Tr/' + str(_classname) + '/text (' + str(_id) + ').bmp';\n",
    "        img = imread(path, as_gray=True)\n",
    "        # converting the type of pixel to float\n",
    "        img = cv2.resize(img, (128,128), interpolation = cv2.INTER_AREA)\n",
    "        img = np.invert(img)\n",
    "        img = img.astype('float32')\n",
    "        img /= 255.0\n",
    "        # appending the image into the list\n",
    "        train_img.append(img)\n",
    "        train_y.append(_classname)"
   ]
  },
  {
   "cell_type": "code",
   "execution_count": 51,
   "metadata": {},
   "outputs": [
    {
     "name": "stdout",
     "output_type": "stream",
     "text": [
      "(120, 128, 128)\n"
     ]
    }
   ],
   "source": [
    "train_x = np.array(train_img)\n",
    "train_y = np.array(train_y)\n",
    "# defining the target\n",
    "print(train_x.shape)"
   ]
  },
  {
   "cell_type": "code",
   "execution_count": 52,
   "metadata": {},
   "outputs": [],
   "source": [
    "train_x, val_x, train_y, val_y = train_test_split(train_x, train_y, test_size = 0.2, random_state = 15)"
   ]
  },
  {
   "cell_type": "code",
   "execution_count": 53,
   "metadata": {},
   "outputs": [
    {
     "data": {
      "text/plain": [
       "array([6, 2, 1, 6, 1, 3, 5, 2, 5, 5, 3, 4, 4, 6, 5, 3, 2, 2, 4, 6, 5, 2,\n",
       "       1, 2])"
      ]
     },
     "execution_count": 53,
     "metadata": {},
     "output_type": "execute_result"
    }
   ],
   "source": [
    "val_y"
   ]
  },
  {
   "cell_type": "code",
   "execution_count": 54,
   "metadata": {},
   "outputs": [],
   "source": [
    "# pd.DataFrame(val_y).count"
   ]
  },
  {
   "cell_type": "code",
   "execution_count": 55,
   "metadata": {},
   "outputs": [
    {
     "data": {
      "text/plain": [
       "(96, 128, 128)"
      ]
     },
     "execution_count": 55,
     "metadata": {},
     "output_type": "execute_result"
    }
   ],
   "source": [
    "train_x.shape"
   ]
  },
  {
   "cell_type": "code",
   "execution_count": 56,
   "metadata": {},
   "outputs": [
    {
     "data": {
      "text/plain": [
       "(24, 128, 128)"
      ]
     },
     "execution_count": 56,
     "metadata": {},
     "output_type": "execute_result"
    }
   ],
   "source": [
    "val_x.shape"
   ]
  },
  {
   "cell_type": "code",
   "execution_count": 57,
   "metadata": {},
   "outputs": [
    {
     "name": "stdout",
     "output_type": "stream",
     "text": [
      "torch.Size([96, 1, 128, 128]) torch.Size([96])\n",
      "torch.Size([24, 1, 128, 128]) torch.Size([24])\n"
     ]
    }
   ],
   "source": [
    "# converting training images into torch format\n",
    "train_x = train_x.reshape(96, 1, 128, 128)\n",
    "train_x = torch.from_numpy(train_x).to(torch.float32)\n",
    "# converting the target into torch format\n",
    "train_y = train_y.astype(int);\n",
    "train_y = torch.from_numpy(train_y).to(torch.float32)\n",
    "# shape of training data\n",
    "print(train_x.shape, train_y.shape)\n",
    "# converting validation images into torch format\n",
    "val_x = val_x.reshape(24, 1, 128, 128)\n",
    "val_x = torch.from_numpy(val_x).to(torch.float32)\n",
    "# converting the target into torch format\n",
    "val_y = val_y.astype(int);\n",
    "val_y = torch.from_numpy(val_y).to(torch.float32)\n",
    "# shape of validation data\n",
    "print(val_x.shape, val_y.shape)"
   ]
  },
  {
   "cell_type": "markdown",
   "metadata": {},
   "source": [
    "## **CNN Constructor**"
   ]
  },
  {
   "cell_type": "code",
   "execution_count": 65,
   "metadata": {},
   "outputs": [],
   "source": [
    "class Net(torch.nn.Module):\n",
    "    def __init__(self):\n",
    "        super(Net, self).__init__()\n",
    "        self.layer1 = Sequential(\n",
    "            Conv2d(1, 12, kernel_size=3, stride=1, padding=1),\n",
    "            BatchNorm2d(12),\n",
    "            ReLU(inplace=True),\n",
    "            MaxPool2d(kernel_size=2, stride=2)\n",
    "        )\n",
    "        self.layer2 = Sequential(\n",
    "            Conv2d(12, 24, kernel_size=3, stride=1, padding=1),\n",
    "            BatchNorm2d(24),\n",
    "            ReLU(inplace=True),\n",
    "            MaxPool2d(kernel_size=1, stride=2)\n",
    "        )\n",
    "        self.drop_out = Dropout()\n",
    "        self.fc1 = Linear(24576, 7)\n",
    "    def forward(self, x):\n",
    "        out = self.layer1(x)\n",
    "        out = self.layer2(out)\n",
    "        out = out.reshape(out.size(0),-1)\n",
    "        out = self.drop_out(out)\n",
    "        out = self.fc1(out)\n",
    "        return out"
   ]
  },
  {
   "cell_type": "code",
   "execution_count": 66,
   "metadata": {},
   "outputs": [],
   "source": [
    "# defining the model\n",
    "model = Net()"
   ]
  },
  {
   "cell_type": "code",
   "execution_count": 67,
   "metadata": {},
   "outputs": [
    {
     "name": "stdout",
     "output_type": "stream",
     "text": [
      "Net(\n",
      "  (layer1): Sequential(\n",
      "    (0): Conv2d(1, 12, kernel_size=(3, 3), stride=(1, 1), padding=(1, 1))\n",
      "    (1): BatchNorm2d(12, eps=1e-05, momentum=0.1, affine=True, track_running_stats=True)\n",
      "    (2): ReLU(inplace=True)\n",
      "    (3): MaxPool2d(kernel_size=2, stride=2, padding=0, dilation=1, ceil_mode=False)\n",
      "  )\n",
      "  (layer2): Sequential(\n",
      "    (0): Conv2d(12, 24, kernel_size=(3, 3), stride=(1, 1), padding=(1, 1))\n",
      "    (1): BatchNorm2d(24, eps=1e-05, momentum=0.1, affine=True, track_running_stats=True)\n",
      "    (2): ReLU(inplace=True)\n",
      "    (3): MaxPool2d(kernel_size=1, stride=2, padding=0, dilation=1, ceil_mode=False)\n",
      "  )\n",
      "  (drop_out): Dropout(p=0.5, inplace=False)\n",
      "  (fc1): Linear(in_features=24576, out_features=7, bias=True)\n",
      ")\n"
     ]
    }
   ],
   "source": [
    "optimizer = SGD(model.parameters(), lr=0.01, momentum=0.9)\n",
    "# defining the loss function\n",
    "criterion = CrossEntropyLoss()\n",
    "print(model)"
   ]
  },
  {
   "cell_type": "code",
   "execution_count": 1930,
   "metadata": {},
   "outputs": [],
   "source": [
    "# empty list to store training losses\n",
    "train_losses = []\n",
    "# empty list to store validation losses\n",
    "val_losses = []"
   ]
  },
  {
   "cell_type": "code",
   "execution_count": 1931,
   "metadata": {},
   "outputs": [
    {
     "name": "stderr",
     "output_type": "stream",
     "text": [
      "100%|██████████████████████████████████████████████████████████████████████████████████| 10/10 [00:02<00:00,  3.88it/s]\n"
     ]
    }
   ],
   "source": [
    "# defining the number of epochs\n",
    "n_epochs = 10\n",
    "# training the model\n",
    "for epoch in tqdm(range(n_epochs)):\n",
    "    model.train()\n",
    "    tr_loss = 0\n",
    "    # getting the training set\n",
    "    x_train, y_train = Variable(train_x), Variable(train_y)\n",
    "    # getting the validation set\n",
    "    x_val, y_val = Variable(val_x), Variable(val_y)\n",
    "    # clearing the Gradients of the model parameters\n",
    "    optimizer.zero_grad()\n",
    "    # prediction for training and validation set\n",
    "    output_train = model(x_train)\n",
    "    output_val = model(x_val)"
   ]
  },
  {
   "cell_type": "code",
   "execution_count": 1932,
   "metadata": {},
   "outputs": [],
   "source": [
    "# computing the training and validation loss\n",
    "# convert the results because they aren't in the good format\n",
    "y_train = y_train.long() \n",
    "y_train = y_train.squeeze_()\n",
    "y_val = y_val.long() \n",
    "y_val = y_val.squeeze_()\n",
    "loss_train = criterion(output_train, y_train)\n",
    "loss_val = criterion(output_val, y_val)\n",
    "train_losses.append(loss_train)\n",
    "val_losses.append(loss_val)\n",
    "# computing the updated weights of all the model parameters\n",
    "loss_train.backward()\n",
    "optimizer.step()\n",
    "tr_loss = loss_train.item()"
   ]
  },
  {
   "cell_type": "code",
   "execution_count": 1933,
   "metadata": {},
   "outputs": [
    {
     "data": {
      "text/plain": [
       "[tensor(4.2067e-05, grad_fn=<NllLossBackward>)]"
      ]
     },
     "execution_count": 1933,
     "metadata": {},
     "output_type": "execute_result"
    }
   ],
   "source": [
    "train_losses"
   ]
  },
  {
   "cell_type": "code",
   "execution_count": 1934,
   "metadata": {},
   "outputs": [],
   "source": [
    "torch.save(model, 'TortureNet.pt')"
   ]
  },
  {
   "cell_type": "markdown",
   "metadata": {},
   "source": [
    "## **Testing**"
   ]
  },
  {
   "cell_type": "code",
   "execution_count": 68,
   "metadata": {},
   "outputs": [],
   "source": [
    "train_model = torch.load('TortureNet.pt')"
   ]
  },
  {
   "cell_type": "code",
   "execution_count": 71,
   "metadata": {},
   "outputs": [
    {
     "data": {
      "text/plain": [
       "0.9583333333333334"
      ]
     },
     "execution_count": 71,
     "metadata": {},
     "output_type": "execute_result"
    }
   ],
   "source": [
    "with torch.no_grad():\n",
    "    output = train_model(val_x)\n",
    "softmax = torch.exp(output).cpu()\n",
    "prob = list(softmax.numpy())\n",
    "predictions = np.argmax(prob, axis=1)\n",
    "# accuracy on validation set\n",
    "accuracy_score(val_y, predictions)"
   ]
  },
  {
   "cell_type": "code",
   "execution_count": 72,
   "metadata": {},
   "outputs": [
    {
     "data": {
      "text/plain": [
       "tensor([6., 2., 1., 6., 1., 3., 5., 2., 5., 5., 3., 4., 4., 6., 5., 3., 2., 2.,\n",
       "        4., 6., 5., 2., 1., 2.])"
      ]
     },
     "execution_count": 72,
     "metadata": {},
     "output_type": "execute_result"
    }
   ],
   "source": [
    "val_y"
   ]
  },
  {
   "cell_type": "code",
   "execution_count": 73,
   "metadata": {},
   "outputs": [
    {
     "data": {
      "text/plain": [
       "array([2, 2, 1, 6, 1, 3, 5, 2, 5, 5, 3, 4, 4, 6, 5, 3, 2, 2, 4, 6, 5, 2,\n",
       "       1, 2], dtype=int64)"
      ]
     },
     "execution_count": 73,
     "metadata": {},
     "output_type": "execute_result"
    }
   ],
   "source": [
    "predictions"
   ]
  },
  {
   "cell_type": "markdown",
   "metadata": {},
   "source": [
    "## **Predict Section**"
   ]
  },
  {
   "cell_type": "code",
   "execution_count": 1979,
   "metadata": {},
   "outputs": [
    {
     "name": "stdout",
     "output_type": "stream",
     "text": [
      "The image is predicted as class [5]\n"
     ]
    }
   ],
   "source": [
    "# Change path of prediction here\n",
    "path = 'Char_Tr/Tr/5/text (17).bmp';\n",
    "img = imread(path, as_gray=True)\n",
    "# converting the type of pixel to float\n",
    "img = cv2.resize(img, (128,128), interpolation = cv2.INTER_AREA)\n",
    "img = np.invert(img)\n",
    "img = img.astype('float32')\n",
    "img /= 255.0\n",
    "img = np.array(img)\n",
    "img = img.reshape(1, 1, 128, 128)\n",
    "img = torch.from_numpy(img).to(torch.float32)\n",
    "\n",
    "with torch.no_grad():\n",
    "    predict_result = train_model(img)\n",
    "softmax_one = torch.exp(predict_result).cpu()\n",
    "prob_pre = list(softmax_one.numpy())\n",
    "predictions_result = np.argmax(prob_pre, axis=1)\n",
    "print('The image is predicted as class ' + str(predictions_result))"
   ]
  },
  {
   "cell_type": "markdown",
   "metadata": {},
   "source": [
    "## **Evaluation**"
   ]
  },
  {
   "cell_type": "code",
   "execution_count": 92,
   "metadata": {},
   "outputs": [],
   "source": [
    "from sklearn.metrics import confusion_matrix\n",
    "from sklearn.metrics import classification_report\n",
    "import pandas as pd\n",
    "import seaborn as sns"
   ]
  },
  {
   "cell_type": "code",
   "execution_count": 1974,
   "metadata": {},
   "outputs": [
    {
     "data": {
      "text/plain": [
       "array([6, 2, 1, 6, 1, 3, 5, 2, 5, 5, 3, 4, 4, 6, 5, 3, 2, 2, 5, 6, 5, 2,\n",
       "       1, 2], dtype=int64)"
      ]
     },
     "execution_count": 1974,
     "metadata": {},
     "output_type": "execute_result"
    }
   ],
   "source": [
    "predictions"
   ]
  },
  {
   "cell_type": "code",
   "execution_count": 1975,
   "metadata": {},
   "outputs": [
    {
     "data": {
      "text/plain": [
       "tensor([6., 2., 1., 6., 1., 3., 5., 2., 5., 5., 3., 4., 4., 6., 5., 3., 2., 2.,\n",
       "        4., 6., 5., 2., 1., 2.])"
      ]
     },
     "execution_count": 1975,
     "metadata": {},
     "output_type": "execute_result"
    }
   ],
   "source": [
    "val_y"
   ]
  },
  {
   "cell_type": "code",
   "execution_count": 1976,
   "metadata": {},
   "outputs": [
    {
     "name": "stdout",
     "output_type": "stream",
     "text": [
      "              precision    recall  f1-score   support\n",
      "\n",
      "         1.0       1.00      1.00      1.00         3\n",
      "         2.0       1.00      1.00      1.00         6\n",
      "         3.0       1.00      1.00      1.00         3\n",
      "         4.0       1.00      0.67      0.80         3\n",
      "         5.0       0.83      1.00      0.91         5\n",
      "         6.0       1.00      1.00      1.00         4\n",
      "\n",
      "    accuracy                           0.96        24\n",
      "   macro avg       0.97      0.94      0.95        24\n",
      "weighted avg       0.97      0.96      0.96        24\n",
      "\n"
     ]
    }
   ],
   "source": [
    "print(classification_report(val_y, predictions))"
   ]
  },
  {
   "cell_type": "code",
   "execution_count": 1977,
   "metadata": {},
   "outputs": [
    {
     "data": {
      "image/png": "[encoded data removed]",
      "text/plain": [
       "<Figure size 576x576 with 1 Axes>"
      ]
     },
     "metadata": {
      "needs_background": "light"
     },
     "output_type": "display_data"
    }
   ],
   "source": [
    "cm = confusion_matrix(val_y, predictions)\n",
    "df1 = pd.DataFrame(columns=[1, 2, 3, 4, 5, 6], index= [1, 2, 3, 4, 5, 6], data= cm)\n",
    "f,ax = plt.subplots(figsize=(8,8))\n",
    "\n",
    "\n",
    "sns.heatmap(df1, annot=True,cmap=\"Greens\", fmt= '.0f',\n",
    "            ax=ax,linewidths = 5, cbar = False,annot_kws={\"size\": 16})\n",
    "plt.xlabel(\"Predicted Label\")\n",
    "plt.xticks(size = 12)\n",
    "plt.yticks(size = 12, rotation = 0)\n",
    "plt.ylabel(\"True Label\")\n",
    "plt.title(\"Confusion Matrix\", size = 12)\n",
    "plt.show()"
   ]
  },
  {
   "cell_type": "markdown",
   "metadata": {},
   "source": [
    "## **TA Test Data**"
   ]
  },
  {
   "cell_type": "code",
   "execution_count": 134,
   "metadata": {},
   "outputs": [],
   "source": [
    "tatest = []\n",
    "talabel = []"
   ]
  },
  {
   "cell_type": "code",
   "execution_count": 135,
   "metadata": {},
   "outputs": [
    {
     "name": "stderr",
     "output_type": "stream",
     "text": [
      "100%|███████████████████████████████████████████████████████████████████████████████████| 6/6 [00:00<00:00, 127.67it/s]\n"
     ]
    }
   ],
   "source": [
    "from os import walk\n",
    "mypath = 'textregtest/Tr/'\n",
    "for i in t.tqdm(range(1, 7)):\n",
    "    for (dirpath, dirname, filenames) in walk(mypath + str(i)):\n",
    "        for name in filenames:\n",
    "            img = cv2.imread(mypath + str(i) + \"/\" + name, 0)\n",
    "            # converting the type of pixel to float\n",
    "            img = cv2.resize(img, (128,128), interpolation = cv2.INTER_AREA)\n",
    "            img = np.invert(img)\n",
    "            img = img.astype('float32')\n",
    "            img /= 255.0\n",
    "            tatest.append(img)\n",
    "            talabel.append(i)"
   ]
  },
  {
   "cell_type": "code",
   "execution_count": 136,
   "metadata": {},
   "outputs": [],
   "source": [
    "tatest = np.array(tatest)\n",
    "talabel = np.array(talabel)"
   ]
  },
  {
   "cell_type": "code",
   "execution_count": 137,
   "metadata": {},
   "outputs": [
    {
     "data": {
      "text/plain": [
       "(120, 128, 128)"
      ]
     },
     "execution_count": 137,
     "metadata": {},
     "output_type": "execute_result"
    }
   ],
   "source": [
    "tatest.shape"
   ]
  },
  {
   "cell_type": "code",
   "execution_count": 138,
   "metadata": {},
   "outputs": [
    {
     "name": "stdout",
     "output_type": "stream",
     "text": [
      "torch.Size([120, 1, 128, 128]) torch.Size([120])\n"
     ]
    }
   ],
   "source": [
    "# converting training images into torch format\n",
    "tatest = tatest.reshape(120, 1, 128, 128)\n",
    "tatest = torch.from_numpy(tatest).to(torch.float32)\n",
    "# converting the target into torch format\n",
    "talabel = talabel.astype(int);\n",
    "talabel = torch.from_numpy(talabel).to(torch.float32)\n",
    "# shape of training data\n",
    "print(tatest.shape, talabel.shape)"
   ]
  },
  {
   "cell_type": "code",
   "execution_count": 139,
   "metadata": {},
   "outputs": [
    {
     "data": {
      "text/plain": [
       "(120, 1, 128, 128)"
      ]
     },
     "execution_count": 139,
     "metadata": {},
     "output_type": "execute_result"
    }
   ],
   "source": [
    "np.array(tatest).shape"
   ]
  },
  {
   "cell_type": "code",
   "execution_count": 168,
   "metadata": {},
   "outputs": [
    {
     "data": {
      "text/plain": [
       "0.675"
      ]
     },
     "execution_count": 168,
     "metadata": {},
     "output_type": "execute_result"
    }
   ],
   "source": [
    "with torch.no_grad():\n",
    "    output = train_model(tatest)\n",
    "softmax = torch.exp(output).cpu()\n",
    "prob = list(softmax.numpy())\n",
    "predictions = np.argmax(prob, axis=1)\n",
    "# accuracy on validation set\n",
    "accuracy_score(talabel, predictions)"
   ]
  },
  {
   "cell_type": "markdown",
   "metadata": {},
   "source": [
    "## Evaluation for TA Test"
   ]
  },
  {
   "cell_type": "code",
   "execution_count": 169,
   "metadata": {},
   "outputs": [
    {
     "data": {
      "text/plain": [
       "array([1, 1, 1, 1, 1, 1, 2, 1, 2, 1, 1, 1, 3, 5, 1, 3, 1, 1, 1, 1, 2, 2,\n",
       "       3, 3, 2, 2, 1, 2, 1, 2, 2, 2, 2, 2, 2, 2, 2, 6, 2, 2, 3, 3, 1, 1,\n",
       "       1, 3, 3, 3, 3, 3, 3, 3, 3, 3, 3, 3, 1, 1, 1, 1, 4, 4, 4, 5, 5, 3,\n",
       "       5, 4, 5, 4, 5, 4, 4, 4, 3, 2, 4, 1, 4, 4, 5, 5, 3, 5, 5, 1, 5, 5,\n",
       "       5, 5, 5, 5, 1, 5, 5, 1, 1, 5, 5, 1, 6, 6, 6, 1, 6, 6, 1, 6, 6, 1,\n",
       "       6, 6, 6, 3, 6, 1, 1, 6, 1, 6], dtype=int64)"
      ]
     },
     "execution_count": 169,
     "metadata": {},
     "output_type": "execute_result"
    }
   ],
   "source": [
    "predictions"
   ]
  },
  {
   "cell_type": "code",
   "execution_count": 170,
   "metadata": {},
   "outputs": [
    {
     "name": "stdout",
     "output_type": "stream",
     "text": [
      "              precision    recall  f1-score   support\n",
      "\n",
      "         1.0       0.42      0.75      0.54        20\n",
      "         2.0       0.83      0.75      0.79        20\n",
      "         3.0       0.62      0.65      0.63        20\n",
      "         4.0       1.00      0.55      0.71        20\n",
      "         5.0       0.70      0.70      0.70        20\n",
      "         6.0       0.93      0.65      0.76        20\n",
      "\n",
      "    accuracy                           0.68       120\n",
      "   macro avg       0.75      0.68      0.69       120\n",
      "weighted avg       0.75      0.68      0.69       120\n",
      "\n"
     ]
    }
   ],
   "source": [
    "print(classification_report(talabel, predictions))"
   ]
  },
  {
   "cell_type": "code",
   "execution_count": 171,
   "metadata": {},
   "outputs": [
    {
     "data": {
      "image/png": "[encoded data removed]",
      "text/plain": [
       "<Figure size 504x504 with 1 Axes>"
      ]
     },
     "metadata": {
      "needs_background": "light"
     },
     "output_type": "display_data"
    }
   ],
   "source": [
    "cm = confusion_matrix(talabel, predictions)\n",
    "df1 = pd.DataFrame(columns=[1, 2, 3, 4, 5, 6], index= [1, 2, 3, 4, 5, 6], data= cm)\n",
    "f,ax = plt.subplots(figsize=(7,7))\n",
    "\n",
    "\n",
    "sns.heatmap(df1, annot=True,cmap=\"Greens\", fmt= '.0f',\n",
    "            ax=ax,linewidths = 5, cbar = False,annot_kws={\"size\": 16})\n",
    "plt.xlabel(\"Predicted Label\")\n",
    "plt.xticks(size = 12)\n",
    "plt.yticks(size = 12, rotation = 0)\n",
    "plt.ylabel(\"True Label\")\n",
    "plt.title(\"Confusion Matrix\", size = 12)\n",
    "plt.show()"
   ]
  },
  {
   "cell_type": "markdown",
   "metadata": {},
   "source": [
    "## Predict Section"
   ]
  },
  {
   "cell_type": "code",
   "execution_count": 179,
   "metadata": {},
   "outputs": [
    {
     "name": "stdout",
     "output_type": "stream",
     "text": [
      "The image is predicted as class [1]\n"
     ]
    }
   ],
   "source": [
    "# Change path of prediction here\n",
    "path = 'textregtest/Tr/1/text (6)_blur.bmp';\n",
    "img = cv2.imread(path, 0)\n",
    "# converting the type of pixel to float\n",
    "img = cv2.resize(img, (128,128), interpolation = cv2.INTER_AREA)\n",
    "img = np.invert(img)\n",
    "img = img.astype('float32')\n",
    "img /= 255.0\n",
    "img = np.array(img)\n",
    "img = img.reshape(1, 1, 128, 128)\n",
    "img = torch.from_numpy(img).to(torch.float32)\n",
    "\n",
    "with torch.no_grad():\n",
    "    predict_result = train_model(img)\n",
    "softmax_one = torch.exp(predict_result).cpu()\n",
    "prob_pre = list(softmax_one.numpy())\n",
    "predictions_result = np.argmax(prob_pre, axis=1)\n",
    "print('The image is predicted as class ' + str(predictions_result))"
   ]
  }
 ],
 "metadata": {
  "kernelspec": {
   "display_name": "Python 3",
   "language": "python",
   "name": "python3"
  },
  "language_info": {
   "codemirror_mode": {
    "name": "ipython",
    "version": 3
   },
   "file_extension": ".py",
   "mimetype": "text/x-python",
   "name": "python",
   "nbconvert_exporter": "python",
   "pygments_lexer": "ipython3",
   "version": "3.8.3"
  }
 },
 "nbformat": 4,
 "nbformat_minor": 4
}
