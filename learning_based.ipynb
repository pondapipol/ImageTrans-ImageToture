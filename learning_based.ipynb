{
 "cells": [
  {
   "cell_type": "code",
   "execution_count": 1397,
   "metadata": {},
   "outputs": [],
   "source": [
    "import pandas as pd\n",
    "import numpy as np\n",
    "# for reading and displaying images\n",
    "from skimage.io import imread\n",
    "import matplotlib.pyplot as plt\n",
    "# for creating validation set\n",
    "from sklearn.model_selection import train_test_split\n",
    "# for evaluating the model\n",
    "from sklearn.metrics import accuracy_score\n",
    "from tqdm import tqdm\n",
    "# PyTorch libraries and modules\n",
    "import torch\n",
    "from torch.autograd import Variable\n",
    "from torch.nn import Linear, ReLU, CrossEntropyLoss, Sequential, Conv2d, MaxPool2d, Module, Softmax, BatchNorm2d, Dropout\n",
    "from torch.optim import Adam, SGD\n",
    "import cv2\n",
    "import numpy.matlib as ml\n",
    "import tqdm as t\n",
    "import skimage.transform as skt\n",
    "import torchvision.models as models"
   ]
  },
  {
   "cell_type": "markdown",
   "metadata": {},
   "source": [
    "## **Image Loading and Preparation**"
   ]
  },
  {
   "cell_type": "code",
   "execution_count": 1588,
   "metadata": {},
   "outputs": [],
   "source": [
    "train_img = [];\n",
    "train_y = [];"
   ]
  },
  {
   "cell_type": "code",
   "execution_count": 1589,
   "metadata": {},
   "outputs": [
    {
     "name": "stderr",
     "output_type": "stream",
     "text": [
      "100%|████████████████████████████████████████████████████████████████████████████████████| 6/6 [00:00<00:00, 79.97it/s]\n"
     ]
    }
   ],
   "source": [
    "# Training Image Loader and Feature Extraction\n",
    "for _classname in t.tqdm(range(1,7)):\n",
    "    for _id in range(1,21):\n",
    "        path = 'Char_Tr/Tr/' + str(_classname) + '/text (' + str(_id) + ').bmp';\n",
    "        img = imread(path, as_gray=True)\n",
    "        # converting the type of pixel to float\n",
    "        img = cv2.resize(img, (128,128), interpolation = cv2.INTER_AREA)\n",
    "        img = np.invert(img)\n",
    "        img = img.astype('float32')\n",
    "        img /= 255.0\n",
    "        # appending the image into the list\n",
    "        train_img.append(img)\n",
    "        train_y.append(_classname)\n",
    "# tmpShape = np.array(datatrain).shape;\n",
    "# datatrain = np.reshape(np.array(datatrain),(-1,tmpShape[1])).T"
   ]
  },
  {
   "cell_type": "code",
   "execution_count": 1590,
   "metadata": {},
   "outputs": [
    {
     "name": "stdout",
     "output_type": "stream",
     "text": [
      "(120, 128, 128)\n"
     ]
    }
   ],
   "source": [
    "train_x = np.array(train_img)\n",
    "train_y = np.array(train_y)\n",
    "# defining the target\n",
    "print(train_x.shape)"
   ]
  },
  {
   "cell_type": "code",
   "execution_count": 1591,
   "metadata": {},
   "outputs": [],
   "source": [
    "train_x, val_x, train_y, val_y = train_test_split(train_x, train_y, test_size = 0.2, random_state = 15)"
   ]
  },
  {
   "cell_type": "code",
   "execution_count": 1592,
   "metadata": {},
   "outputs": [
    {
     "data": {
      "text/plain": [
       "array([6, 2, 1, 6, 1, 3, 5, 2, 5, 5, 3, 4, 4, 6, 5, 3, 2, 2, 4, 6, 5, 2,\n",
       "       1, 2])"
      ]
     },
     "execution_count": 1592,
     "metadata": {},
     "output_type": "execute_result"
    }
   ],
   "source": [
    "val_y"
   ]
  },
  {
   "cell_type": "code",
   "execution_count": 1593,
   "metadata": {},
   "outputs": [],
   "source": [
    "# pd.DataFrame(val_y).count"
   ]
  },
  {
   "cell_type": "code",
   "execution_count": 1594,
   "metadata": {},
   "outputs": [
    {
     "data": {
      "text/plain": [
       "(96, 128, 128)"
      ]
     },
     "execution_count": 1594,
     "metadata": {},
     "output_type": "execute_result"
    }
   ],
   "source": [
    "train_x.shape"
   ]
  },
  {
   "cell_type": "code",
   "execution_count": 1595,
   "metadata": {},
   "outputs": [
    {
     "data": {
      "text/plain": [
       "(24, 128, 128)"
      ]
     },
     "execution_count": 1595,
     "metadata": {},
     "output_type": "execute_result"
    }
   ],
   "source": [
    "val_x.shape"
   ]
  },
  {
   "cell_type": "code",
   "execution_count": 1596,
   "metadata": {},
   "outputs": [
    {
     "name": "stdout",
     "output_type": "stream",
     "text": [
      "torch.Size([96, 1, 128, 128]) torch.Size([96])\n",
      "torch.Size([24, 1, 128, 128]) torch.Size([24])\n"
     ]
    }
   ],
   "source": [
    "# converting training images into torch format\n",
    "train_x = train_x.reshape(96, 1, 128, 128)\n",
    "train_x = torch.from_numpy(train_x).to(torch.float32)\n",
    "# converting the target into torch format\n",
    "train_y = train_y.astype(int);\n",
    "train_y = torch.from_numpy(train_y).to(torch.float32)\n",
    "# shape of training data\n",
    "print(train_x.shape, train_y.shape)\n",
    "# converting validation images into torch format\n",
    "val_x = val_x.reshape(24, 1, 128, 128)\n",
    "val_x = torch.from_numpy(val_x).to(torch.float32)\n",
    "# converting the target into torch format\n",
    "val_y = val_y.astype(int);\n",
    "val_y = torch.from_numpy(val_y).to(torch.float32)\n",
    "# shape of validation data\n",
    "print(val_x.shape, val_y.shape)"
   ]
  },
  {
   "cell_type": "markdown",
   "metadata": {},
   "source": [
    "## **CNN Constructor**"
   ]
  },
  {
   "cell_type": "code",
   "execution_count": 1597,
   "metadata": {},
   "outputs": [],
   "source": [
    "class Net(torch.nn.Module):\n",
    "    def __init__(self):\n",
    "        super(Net, self).__init__()\n",
    "        self.layer1 = nn.Sequential(\n",
    "            Conv2d(1, 12, kernel_size=3, stride=1, padding=1),\n",
    "            BatchNorm2d(12),\n",
    "            ReLU(inplace=True),\n",
    "            MaxPool2d(kernel_size=2, stride=2)\n",
    "        )\n",
    "        self.layer2 = nn.Sequential(\n",
    "            Conv2d(12, 24, kernel_size=3, stride=1, padding=1),\n",
    "            BatchNorm2d(24),\n",
    "            ReLU(inplace=True),\n",
    "            MaxPool2d(kernel_size=1, stride=2)\n",
    "        )\n",
    "        self.drop_out = Dropout()\n",
    "        self.fc1 = Linear(24576, 7)\n",
    "    def forward(self, x):\n",
    "        out = self.layer1(x)\n",
    "        out = self.layer2(out)\n",
    "        out = out.reshape(out.size(0),-1)\n",
    "        out = self.drop_out(out)\n",
    "        out = self.fc1(out)\n",
    "        return out"
   ]
  },
  {
   "cell_type": "code",
   "execution_count": 1598,
   "metadata": {},
   "outputs": [],
   "source": [
    "# defining the model\n",
    "model = Net()"
   ]
  },
  {
   "cell_type": "code",
   "execution_count": 1599,
   "metadata": {},
   "outputs": [
    {
     "name": "stdout",
     "output_type": "stream",
     "text": [
      "Net(\n",
      "  (layer1): Sequential(\n",
      "    (0): Conv2d(1, 12, kernel_size=(3, 3), stride=(1, 1), padding=(1, 1))\n",
      "    (1): BatchNorm2d(12, eps=1e-05, momentum=0.1, affine=True, track_running_stats=True)\n",
      "    (2): ReLU(inplace=True)\n",
      "    (3): MaxPool2d(kernel_size=2, stride=2, padding=0, dilation=1, ceil_mode=False)\n",
      "  )\n",
      "  (layer2): Sequential(\n",
      "    (0): Conv2d(12, 24, kernel_size=(3, 3), stride=(1, 1), padding=(1, 1))\n",
      "    (1): BatchNorm2d(24, eps=1e-05, momentum=0.1, affine=True, track_running_stats=True)\n",
      "    (2): ReLU(inplace=True)\n",
      "    (3): MaxPool2d(kernel_size=1, stride=2, padding=0, dilation=1, ceil_mode=False)\n",
      "  )\n",
      "  (drop_out): Dropout(p=0.5, inplace=False)\n",
      "  (fc1): Linear(in_features=24576, out_features=7, bias=True)\n",
      ")\n"
     ]
    }
   ],
   "source": [
    "optimizer = SGD(model.parameters(), lr=0.01, momentum=0.9)\n",
    "# defining the loss function\n",
    "criterion = CrossEntropyLoss()\n",
    "print(model)"
   ]
  },
  {
   "cell_type": "code",
   "execution_count": 1930,
   "metadata": {},
   "outputs": [],
   "source": [
    "# empty list to store training losses\n",
    "train_losses = []\n",
    "# empty list to store validation losses\n",
    "val_losses = []"
   ]
  },
  {
   "cell_type": "code",
   "execution_count": 1931,
   "metadata": {},
   "outputs": [
    {
     "name": "stderr",
     "output_type": "stream",
     "text": [
      "100%|██████████████████████████████████████████████████████████████████████████████████| 10/10 [00:02<00:00,  3.88it/s]\n"
     ]
    }
   ],
   "source": [
    "# defining the number of epochs\n",
    "n_epochs = 10\n",
    "# training the model\n",
    "for epoch in tqdm(range(n_epochs)):\n",
    "    model.train()\n",
    "    tr_loss = 0\n",
    "    # getting the training set\n",
    "    x_train, y_train = Variable(train_x), Variable(train_y)\n",
    "    # getting the validation set\n",
    "    x_val, y_val = Variable(val_x), Variable(val_y)\n",
    "    # clearing the Gradients of the model parameters\n",
    "    optimizer.zero_grad()\n",
    "    # prediction for training and validation set\n",
    "    output_train = model(x_train)\n",
    "    output_val = model(x_val)"
   ]
  },
  {
   "cell_type": "code",
   "execution_count": 1932,
   "metadata": {},
   "outputs": [],
   "source": [
    "# computing the training and validation loss\n",
    "# convert the results because they aren't in the good format\n",
    "y_train = y_train.long() \n",
    "y_train = y_train.squeeze_()\n",
    "y_val = y_val.long() \n",
    "y_val = y_val.squeeze_()\n",
    "loss_train = criterion(output_train, y_train)\n",
    "loss_val = criterion(output_val, y_val)\n",
    "train_losses.append(loss_train)\n",
    "val_losses.append(loss_val)\n",
    "# computing the updated weights of all the model parameters\n",
    "loss_train.backward()\n",
    "optimizer.step()\n",
    "tr_loss = loss_train.item()"
   ]
  },
  {
   "cell_type": "code",
   "execution_count": 1933,
   "metadata": {},
   "outputs": [
    {
     "data": {
      "text/plain": [
       "[tensor(4.2067e-05, grad_fn=<NllLossBackward>)]"
      ]
     },
     "execution_count": 1933,
     "metadata": {},
     "output_type": "execute_result"
    }
   ],
   "source": [
    "train_losses"
   ]
  },
  {
   "cell_type": "code",
   "execution_count": 1934,
   "metadata": {},
   "outputs": [],
   "source": [
    "torch.save(model, 'TortureNet.pt')"
   ]
  },
  {
   "cell_type": "markdown",
   "metadata": {},
   "source": [
    "## **Testing**"
   ]
  },
  {
   "cell_type": "code",
   "execution_count": 1935,
   "metadata": {},
   "outputs": [],
   "source": [
    "train_model = torch.load('TortureNet.pt')"
   ]
  },
  {
   "cell_type": "code",
   "execution_count": 1937,
   "metadata": {},
   "outputs": [
    {
     "data": {
      "text/plain": [
       "0.9583333333333334"
      ]
     },
     "execution_count": 1937,
     "metadata": {},
     "output_type": "execute_result"
    }
   ],
   "source": [
    "with torch.no_grad():\n",
    "    output = train_model(val_x)\n",
    "softmax = torch.exp(output).cpu()\n",
    "prob = list(softmax.numpy())\n",
    "predictions = np.argmax(prob, axis=1)\n",
    "# accuracy on validation set\n",
    "accuracy_score(val_y, predictions)"
   ]
  },
  {
   "cell_type": "code",
   "execution_count": 1938,
   "metadata": {},
   "outputs": [
    {
     "data": {
      "text/plain": [
       "tensor([6., 2., 1., 6., 1., 3., 5., 2., 5., 5., 3., 4., 4., 6., 5., 3., 2., 2.,\n",
       "        4., 6., 5., 2., 1., 2.])"
      ]
     },
     "execution_count": 1938,
     "metadata": {},
     "output_type": "execute_result"
    }
   ],
   "source": [
    "val_y"
   ]
  },
  {
   "cell_type": "code",
   "execution_count": 1939,
   "metadata": {},
   "outputs": [
    {
     "data": {
      "text/plain": [
       "array([6, 2, 1, 6, 1, 3, 5, 2, 5, 4, 3, 4, 4, 6, 5, 3, 2, 2, 4, 6, 5, 2,\n",
       "       1, 2], dtype=int64)"
      ]
     },
     "execution_count": 1939,
     "metadata": {},
     "output_type": "execute_result"
    }
   ],
   "source": [
    "predictions"
   ]
  },
  {
   "cell_type": "markdown",
   "metadata": {},
   "source": [
    "## **Predict Section**"
   ]
  },
  {
   "cell_type": "code",
   "execution_count": 1940,
   "metadata": {},
   "outputs": [
    {
     "name": "stdout",
     "output_type": "stream",
     "text": [
      "The image is predicted as class [6]\n"
     ]
    }
   ],
   "source": [
    "# Change path of prediction here\n",
    "path = 'Char_Tr/Tr/6/text (11).bmp';\n",
    "img = imread(path, as_gray=True)\n",
    "# converting the type of pixel to float\n",
    "img = cv2.resize(img, (128,128), interpolation = cv2.INTER_AREA)\n",
    "img = np.invert(img)\n",
    "img = img.astype('float32')\n",
    "img /= 255.0\n",
    "img = np.array(img)\n",
    "img = img.reshape(1, 1, 128, 128)\n",
    "img = torch.from_numpy(img).to(torch.float32)\n",
    "\n",
    "with torch.no_grad():\n",
    "    predict_result = train_model(img)\n",
    "softmax_one = torch.exp(predict_result).cpu()\n",
    "prob_pre = list(softmax_one.numpy())\n",
    "predictions_result = np.argmax(prob_pre, axis=1)\n",
    "print('The image is predicted as class ' + str(predictions_result))"
   ]
  },
  {
   "cell_type": "markdown",
   "metadata": {},
   "source": [
    "## **Evaluation**"
   ]
  },
  {
   "cell_type": "code",
   "execution_count": 1941,
   "metadata": {},
   "outputs": [],
   "source": [
    "from sklearn.metrics import confusion_matrix\n",
    "from sklearn.metrics import classification_report\n",
    "import pandas as pd\n",
    "import seaborn as sns"
   ]
  },
  {
   "cell_type": "code",
   "execution_count": 1942,
   "metadata": {},
   "outputs": [
    {
     "data": {
      "text/plain": [
       "array([6, 2, 1, 6, 1, 3, 5, 2, 5, 4, 3, 4, 4, 6, 5, 3, 2, 2, 4, 6, 5, 2,\n",
       "       1, 2], dtype=int64)"
      ]
     },
     "execution_count": 1942,
     "metadata": {},
     "output_type": "execute_result"
    }
   ],
   "source": [
    "predictions"
   ]
  },
  {
   "cell_type": "code",
   "execution_count": 1943,
   "metadata": {},
   "outputs": [
    {
     "data": {
      "text/plain": [
       "tensor([6., 2., 1., 6., 1., 3., 5., 2., 5., 5., 3., 4., 4., 6., 5., 3., 2., 2.,\n",
       "        4., 6., 5., 2., 1., 2.])"
      ]
     },
     "execution_count": 1943,
     "metadata": {},
     "output_type": "execute_result"
    }
   ],
   "source": [
    "val_y"
   ]
  },
  {
   "cell_type": "code",
   "execution_count": 1944,
   "metadata": {},
   "outputs": [
    {
     "name": "stdout",
     "output_type": "stream",
     "text": [
      "              precision    recall  f1-score   support\n",
      "\n",
      "         1.0       1.00      1.00      1.00         3\n",
      "         2.0       1.00      1.00      1.00         6\n",
      "         3.0       1.00      1.00      1.00         3\n",
      "         4.0       0.75      1.00      0.86         3\n",
      "         5.0       1.00      0.80      0.89         5\n",
      "         6.0       1.00      1.00      1.00         4\n",
      "\n",
      "    accuracy                           0.96        24\n",
      "   macro avg       0.96      0.97      0.96        24\n",
      "weighted avg       0.97      0.96      0.96        24\n",
      "\n"
     ]
    }
   ],
   "source": [
    "print(classification_report(val_y, predictions))"
   ]
  },
  {
   "cell_type": "code",
   "execution_count": 1945,
   "metadata": {},
   "outputs": [
    {
     "data": {
      "image/png": "[encoded data removed]",
      "text/plain": [
       "<Figure size 576x576 with 1 Axes>"
      ]
     },
     "metadata": {
      "needs_background": "light"
     },
     "output_type": "display_data"
    }
   ],
   "source": [
    "cm = confusion_matrix(val_y, predictions)\n",
    "df1 = pd.DataFrame(columns=[1, 2, 3, 4, 5, 6], index= [1, 2, 3, 4, 5, 6], data= cm)\n",
    "f,ax = plt.subplots(figsize=(8,8))\n",
    "\n",
    "\n",
    "sns.heatmap(df1, annot=True,cmap=\"Greens\", fmt= '.0f',\n",
    "            ax=ax,linewidths = 5, cbar = False,annot_kws={\"size\": 16})\n",
    "plt.xlabel(\"Predicted Label\")\n",
    "plt.xticks(size = 12)\n",
    "plt.yticks(size = 12, rotation = 0)\n",
    "plt.ylabel(\"True Label\")\n",
    "plt.title(\"Confusion Matrix\", size = 12)\n",
    "plt.show()"
   ]
  }
 ],
 "metadata": {
  "kernelspec": {
   "display_name": "Python 3",
   "language": "python",
   "name": "python3"
  },
  "language_info": {
   "codemirror_mode": {
    "name": "ipython",
    "version": 3
   },
   "file_extension": ".py",
   "mimetype": "text/x-python",
   "name": "python",
   "nbconvert_exporter": "python",
   "pygments_lexer": "ipython3",
   "version": "3.8.3"
  }
 },
 "nbformat": 4,
 "nbformat_minor": 4
}
